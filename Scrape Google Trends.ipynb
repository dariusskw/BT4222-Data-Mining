{
 "cells": [
  {
   "cell_type": "code",
   "execution_count": 1,
   "id": "8f007b10",
   "metadata": {},
   "outputs": [
    {
     "name": "stdout",
     "output_type": "stream",
     "text": [
      "Collecting pytrends\n",
      "  Downloading pytrends-4.7.3-py3-none-any.whl (14 kB)\n",
      "Requirement already satisfied: lxml in c:\\users\\alvin\\appdata\\local\\programs\\python\\python37\\lib\\site-packages (from pytrends) (4.5.2)\n",
      "Requirement already satisfied: requests in c:\\users\\alvin\\appdata\\local\\programs\\python\\python37\\lib\\site-packages (from pytrends) (2.25.1)\n",
      "Requirement already satisfied: pandas>=0.25 in c:\\users\\alvin\\appdata\\local\\programs\\python\\python37\\lib\\site-packages (from pytrends) (1.2.4)\n",
      "Requirement already satisfied: pytz>=2017.3 in c:\\users\\alvin\\appdata\\local\\programs\\python\\python37\\lib\\site-packages (from pandas>=0.25->pytrends) (2021.1)\n",
      "Requirement already satisfied: python-dateutil>=2.7.3 in c:\\users\\alvin\\appdata\\local\\programs\\python\\python37\\lib\\site-packages (from pandas>=0.25->pytrends) (2.8.1)\n",
      "Requirement already satisfied: numpy>=1.16.5 in c:\\users\\alvin\\appdata\\local\\programs\\python\\python37\\lib\\site-packages (from pandas>=0.25->pytrends) (1.20.2)\n",
      "Requirement already satisfied: six>=1.5 in c:\\users\\alvin\\appdata\\local\\programs\\python\\python37\\lib\\site-packages (from python-dateutil>=2.7.3->pandas>=0.25->pytrends) (1.15.0)\n",
      "Requirement already satisfied: chardet<5,>=3.0.2 in c:\\users\\alvin\\appdata\\local\\programs\\python\\python37\\lib\\site-packages (from requests->pytrends) (4.0.0)\n",
      "Requirement already satisfied: idna<3,>=2.5 in c:\\users\\alvin\\appdata\\local\\programs\\python\\python37\\lib\\site-packages (from requests->pytrends) (2.10)\n",
      "Requirement already satisfied: certifi>=2017.4.17 in c:\\users\\alvin\\appdata\\local\\programs\\python\\python37\\lib\\site-packages (from requests->pytrends) (2020.12.5)\n",
      "Requirement already satisfied: urllib3<1.27,>=1.21.1 in c:\\users\\alvin\\appdata\\local\\programs\\python\\python37\\lib\\site-packages (from requests->pytrends) (1.26.4)\n",
      "Installing collected packages: pytrends\n",
      "Successfully installed pytrends-4.7.3\n"
     ]
    },
    {
     "name": "stderr",
     "output_type": "stream",
     "text": [
      "WARNING: You are using pip version 21.1.2; however, version 21.3.1 is available.\n",
      "You should consider upgrading via the 'c:\\users\\alvin\\appdata\\local\\programs\\python\\python37\\python.exe -m pip install --upgrade pip' command.\n"
     ]
    }
   ],
   "source": [
    "!pip install pytrends"
   ]
  },
  {
   "cell_type": "code",
   "execution_count": 1,
   "id": "695fcb35",
   "metadata": {},
   "outputs": [],
   "source": [
    "import pandas as pd\n",
    "from pytrends.request import TrendReq\n",
    "pytrends = TrendReq()"
   ]
  },
  {
   "cell_type": "code",
   "execution_count": 3,
   "id": "06e26882",
   "metadata": {},
   "outputs": [],
   "source": [
    "kw_list = [\"Apple\"] #, \"Procter & Gamble\", \"Apple\"]"
   ]
  },
  {
   "cell_type": "code",
   "execution_count": null,
   "id": "78c75e85",
   "metadata": {},
   "outputs": [
    {
     "name": "stdout",
     "output_type": "stream",
     "text": [
      "HTTPSConnectionPool(host='trends.google.com', port=443): Read timed out. (read timeout=5)\n",
      "HTTPSConnectionPool(host='trends.google.com', port=443): Read timed out. (read timeout=5)\n",
      "HTTPSConnectionPool(host='trends.google.com', port=443): Read timed out. (read timeout=5)\n",
      "HTTPSConnectionPool(host='trends.google.com', port=443): Read timed out. (read timeout=5)\n",
      "HTTPSConnectionPool(host='trends.google.com', port=443): Read timed out. (read timeout=5)\n"
     ]
    }
   ],
   "source": [
    "df = pytrends.get_historical_interest(kw_list, \n",
    "                                      year_start=2016, month_start=10, day_start=1, hour_start=0, \n",
    "                                      year_end=2021, month_end=10, day_end=1, hour_end=0, cat=0, \n",
    "                                      geo='', gprop='', sleep=120)"
   ]
  },
  {
   "cell_type": "code",
   "execution_count": null,
   "id": "50f73da8",
   "metadata": {},
   "outputs": [],
   "source": [
    "df.plot()"
   ]
  },
  {
   "cell_type": "code",
   "execution_count": null,
   "id": "6973a898",
   "metadata": {},
   "outputs": [],
   "source": [
    "#df_pg.reset_index().plot(x='date', y='P&G', figsize=(120, 10), kind ='line')\n",
    "df.to_csv(\"Apple_full2.csv\")"
   ]
  },
  {
   "cell_type": "code",
   "execution_count": null,
   "id": "10990543",
   "metadata": {},
   "outputs": [],
   "source": []
  }
 ],
 "metadata": {
  "kernelspec": {
   "display_name": "Python 3",
   "language": "python",
   "name": "python3"
  },
  "language_info": {
   "codemirror_mode": {
    "name": "ipython",
    "version": 3
   },
   "file_extension": ".py",
   "mimetype": "text/x-python",
   "name": "python",
   "nbconvert_exporter": "python",
   "pygments_lexer": "ipython3",
   "version": "3.7.2"
  }
 },
 "nbformat": 4,
 "nbformat_minor": 5
}
